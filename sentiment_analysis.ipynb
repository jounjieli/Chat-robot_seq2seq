{
 "cells": [
  {
   "cell_type": "code",
   "execution_count": 1,
   "metadata": {},
   "outputs": [],
   "source": [
    "from ML_utils import ML_utils\n",
    "import numpy as np\n",
    "import os\n",
    "import torch\n",
    "import torch.nn as nn\n",
    "import torch.optim as optim\n",
    "import torch.utils.data as data\n",
    "import matplotlib.pyplot as plt"
   ]
  },
  {
   "cell_type": "code",
   "execution_count": 2,
   "metadata": {},
   "outputs": [],
   "source": [
    "dir_path = r'D:\\Backup\\ml_data\\GitHub\\ML_Sentiment_analysis\\Dataset'\n",
    "x = np.load(os.path.join(dir_path,'vec_x_neg3000_pos3000.npy'))\n",
    "y = np.load(os.path.join(dir_path,'vec_y_neg3000_pos3000.npy'))"
   ]
  },
  {
   "cell_type": "code",
   "execution_count": 3,
   "metadata": {},
   "outputs": [],
   "source": [
    "x_train = np.concatenate((x[:2400],x[3000:5400]))\n",
    "y_train = np.concatenate((y[:2400],y[3000:5400]))\n",
    "x_test = np.concatenate((x[2400:3000],x[5400:6000]))\n",
    "y_test = np.concatenate((y[2400:3000],y[5400:6000]))\n",
    "del x,y"
   ]
  },
  {
   "cell_type": "code",
   "execution_count": 4,
   "metadata": {},
   "outputs": [],
   "source": [
    "class Dataset(data.Dataset):\n",
    "    def __init__(self,x,y,transform=None,target_transform=None):\n",
    "#         self.transform = transform\n",
    "#         self.target_transform = target_transform\n",
    "        self.data_X = x\n",
    "        self.data_Y = y\n",
    "        \n",
    "    def __getitem__(self, index):\n",
    "        X = self.data_X[index]\n",
    "        Y = self.data_Y[index]\n",
    "#         if self.transform != None:\n",
    "#             X = self.transform(X)\n",
    "#         if self.target_transform != None:\n",
    "#             Y = self.transform(Y)\n",
    "        return X, Y\n",
    "                \n",
    "    def __len__(self):\n",
    "        return len(self.data_X)"
   ]
  },
  {
   "cell_type": "code",
   "execution_count": 5,
   "metadata": {},
   "outputs": [],
   "source": [
    "batch_size = 400\n",
    "train_data = Dataset(x_train,y_train)\n",
    "trainloader = torch.utils.data.DataLoader(train_data, batch_size = batch_size ,shuffle=False, num_workers=0)\n",
    "test_data = Dataset(x_train,y_train)\n",
    "testloader = torch.utils.data.DataLoader(test_data, batch_size = batch_size ,shuffle=False, num_workers=0)\n",
    "del train_data,test_data,x_train,y_train,x_test,y_test"
   ]
  },
  {
   "cell_type": "code",
   "execution_count": 2,
   "metadata": {},
   "outputs": [],
   "source": [
    "seq_len = 30\n",
    "input_size = 300\n",
    "rnn_hidden_size = 100\n",
    "rnn_num_layers = 4\n",
    "output_size = 2\n",
    "hidden_size = seq_len*rnn_hidden_size\n",
    "device = torch.device(\"cuda:0\" if torch.cuda.is_available() else \"cpu\")\n",
    "dtype = torch.float32\n",
    "\n",
    "class LSTM_model(nn.Module):\n",
    "    def __init__(self, ):\n",
    "        super(LSTM_model, self).__init__()\n",
    "        self.register_parameter('w_test', nn.Parameter(nn.init.xavier_normal_(torch.zeros(300,300))))\n",
    "        self.lstm0 = nn.LSTM(\n",
    "            input_size=input_size,\n",
    "            hidden_size=rnn_hidden_size,\n",
    "            num_layers=rnn_num_layers,\n",
    "            batch_first=True)\n",
    "        self.linear = nn.Linear(hidden_size, hidden_size)\n",
    "        self.linear0 = nn.Linear(hidden_size, output_size)\n",
    "        for name,p in self.named_parameters():\n",
    "            if (name.find('rnn') == 0):\n",
    "                nn.init.normal_(p, mean=0.0, std=0.001)\n",
    "            elif (name.find('linear') == 0) and (name.find('weight') == 0):        \n",
    "                nn.init.xavier_normal_(p)\n",
    "    def forward(self, x, h0,c0):\n",
    "        # [b, seq, h]\n",
    "        out, (h0_,c0_) = self.lstm0(x, (h0,c0))\n",
    "        out = out.reshape(-1,hidden_size)\n",
    "        out = self.linear(out)\n",
    "        out = nn.functional.relu(out)\n",
    "        out = self.linear0(out)\n",
    "        out = nn.functional.softmax(out,dim=1)\n",
    "        return out, (h0_,c0_)"
   ]
  },
  {
   "cell_type": "code",
   "execution_count": 3,
   "metadata": {},
   "outputs": [
    {
     "data": {
      "text/plain": [
       "LSTM_model(\n",
       "  (lstm0): LSTM(300, 100, num_layers=4, batch_first=True)\n",
       "  (linear): Linear(in_features=3000, out_features=3000, bias=True)\n",
       "  (linear0): Linear(in_features=3000, out_features=2, bias=True)\n",
       ")"
      ]
     },
     "execution_count": 3,
     "metadata": {},
     "output_type": "execute_result"
    }
   ],
   "source": [
    "#[rnn_layer,b,hidden_size]\n",
    "h0 = torch.zeros(rnn_num_layers, batch_size, rnn_hidden_size,device='cuda:0')\n",
    "c0 =  torch.zeros(rnn_num_layers, batch_size, rnn_hidden_size,device='cuda:0')\n",
    "model = LSTM_model()\n",
    "model.cuda('cuda:0')"
   ]
  },
  {
   "cell_type": "code",
   "execution_count": null,
   "metadata": {},
   "outputs": [],
   "source": [
    "list(model.named_parameters())"
   ]
  },
  {
   "cell_type": "code",
   "execution_count": 8,
   "metadata": {},
   "outputs": [],
   "source": [
    "def train(lr,epoch):\n",
    "    model.train()\n",
    "    criterion = nn.MSELoss()\n",
    "    optimizer = optim.Adam(model.parameters(), lr)\n",
    "    global h0\n",
    "    global c0\n",
    "    trainloss_list = []\n",
    "    testloss_list = []\n",
    "    for epoch in range(epoch):\n",
    "        data_iter = iter(trainloader)\n",
    "        for batch in data_iter:\n",
    "            x = batch[0].to(device=device,dtype=dtype)\n",
    "            y = batch[1].to(device=device,dtype=dtype)\n",
    "            output,(h0_,c0_) = model(x, h0, c0)\n",
    "            h0 = h0_.detach()\n",
    "            c0 = c0_.detach()\n",
    "            loss = criterion(output, y)\n",
    "            model.zero_grad()\n",
    "            loss.backward()\n",
    "    #         for p in model.parameters():\n",
    "    #             torch.nn.utils.clip_grad_norm_(p, 10)\n",
    "            optimizer.step()\n",
    "    #     print(\"Iteration: {} loss {}\".format(epoch+1, loss.item()))\n",
    "    #     loss_list.append(loss.item())\n",
    "        if (epoch+1) % 10 == 0:\n",
    "            print(\"Iteration: {} Train.loss {}\".format(epoch+1, loss.detach()))\n",
    "            trainloss_list.append(loss.item())\n",
    "        data_iter = iter(testloader)\n",
    "        for batch in data_iter:\n",
    "            x = batch[0].to(device=device,dtype=dtype)\n",
    "            y = batch[1].to(device=device,dtype=dtype)\n",
    "            output,(h0_,c0_) = model(x, h0, c0)\n",
    "            h0 = h0_.detach()\n",
    "            c0 = c0_.detach()\n",
    "            loss = criterion(output, y)\n",
    "        if (epoch+1) % 10 == 0:\n",
    "            print(\"Iteration: {} Test.loss {}\".format(epoch+1, loss.detach()))\n",
    "            testloss_list.append(loss.item())\n",
    "    return trainloss_list,testloss_list"
   ]
  },
  {
   "cell_type": "code",
   "execution_count": 9,
   "metadata": {},
   "outputs": [
    {
     "name": "stdout",
     "output_type": "stream",
     "text": [
      "Iteration: 10 Train.loss 0.24976544082164764\n",
      "Iteration: 10 Test.loss 0.24756138026714325\n",
      "Iteration: 20 Train.loss 0.06430943310260773\n",
      "Iteration: 20 Test.loss 0.055881958454847336\n",
      "Iteration: 30 Train.loss 0.05166279897093773\n",
      "Iteration: 30 Test.loss 0.04590557888150215\n",
      "Iteration: 40 Train.loss 0.041430093348026276\n",
      "Iteration: 40 Test.loss 0.03774380683898926\n",
      "Iteration: 50 Train.loss 0.03162067010998726\n",
      "Iteration: 50 Test.loss 0.02966400794684887\n",
      "Iteration: 60 Train.loss 0.027990169823169708\n",
      "Iteration: 60 Test.loss 0.027434952557086945\n",
      "Iteration: 70 Train.loss 0.024049222469329834\n",
      "Iteration: 70 Test.loss 0.023939939215779305\n",
      "Iteration: 80 Train.loss 0.021655485033988953\n",
      "Iteration: 80 Test.loss 0.021562933921813965\n",
      "Iteration: 90 Train.loss 0.018364161252975464\n",
      "Iteration: 90 Test.loss 0.018147660419344902\n",
      "Iteration: 100 Train.loss 0.013968524523079395\n",
      "Iteration: 100 Test.loss 0.013854865916073322\n",
      "Iteration: 110 Train.loss 0.013622084632515907\n",
      "Iteration: 110 Test.loss 0.013537745922803879\n",
      "Iteration: 120 Train.loss 0.011279977858066559\n",
      "Iteration: 120 Test.loss 0.01119699701666832\n",
      "Iteration: 130 Train.loss 0.011248534545302391\n",
      "Iteration: 130 Test.loss 0.011176296509802341\n",
      "Iteration: 140 Train.loss 0.010909076780080795\n",
      "Iteration: 140 Test.loss 0.010454199276864529\n",
      "Iteration: 150 Train.loss 0.010082287713885307\n",
      "Iteration: 150 Test.loss 0.010066308081150055\n",
      "Iteration: 160 Train.loss 0.009005468338727951\n",
      "Iteration: 160 Test.loss 0.008960285224020481\n",
      "Iteration: 170 Train.loss 0.008945772424340248\n",
      "Iteration: 170 Test.loss 0.008897093124687672\n",
      "Iteration: 180 Train.loss 0.008873873390257359\n",
      "Iteration: 180 Test.loss 0.008820610120892525\n",
      "Iteration: 190 Train.loss 0.008737246505916119\n",
      "Iteration: 190 Test.loss 0.008676940575242043\n",
      "Iteration: 200 Train.loss 0.006468998268246651\n",
      "Iteration: 200 Test.loss 0.0064118956215679646\n"
     ]
    },
    {
     "data": {
      "image/png": "[encoded data removed]",
      "text/plain": [
       "<Figure size 432x288 with 1 Axes>"
      ]
     },
     "metadata": {
      "needs_background": "light"
     },
     "output_type": "display_data"
    }
   ],
   "source": [
    "trainloss_list,testloss_list = train(lr=0.0001,epoch=200)\n",
    "plt.plot(trainloss_list)\n",
    "plt.plot(testloss_list)\n",
    "plt.show()"
   ]
  },
  {
   "cell_type": "code",
   "execution_count": 47,
   "metadata": {},
   "outputs": [],
   "source": [
    "#儲存\n",
    "save_model_path = r'D:\\Backup\\ml_data\\GitHub\\ML_Sentiment_analysis\\word2vec_model\\sentiment_analysis_model'\n",
    "torch.save(model.state_dict(), save_model_path)\n",
    "torch.save({'sentiment_analysis_model_h0':h0,'sentiment_analysis_model_c0':c0},save_model_path+'lstm')"
   ]
  },
  {
   "cell_type": "code",
   "execution_count": 7,
   "metadata": {},
   "outputs": [],
   "source": [
    "# 讀取\n",
    "# save_model_path = r'D:\\Backup\\ml_data\\GitHub\\ML_Sentiment_analysis\\word2vec_model\\sentiment_analysis_model'\n",
    "# model = LSTM_model()\n",
    "# model.cuda()\n",
    "# check_point1 = torch.load(save_model_path+'lstm')\n",
    "# model.load_state_dict(torch.load(save_model_path))\n",
    "# h0 = check_point1['sentiment_analysis_model_h0']\n",
    "# c0 = check_point1['sentiment_analysis_model_c0']"
   ]
  },
  {
   "cell_type": "code",
   "execution_count": 8,
   "metadata": {},
   "outputs": [],
   "source": [
    "import re\n",
    "from gensim.models import word2vec\n",
    "import logging\n",
    "import jieba\n",
    "model.eval()\n",
    "class predict_config():\n",
    "    def __init__(self,h0,c0,word_vec_path):\n",
    "        self.word_vec_model = word2vec.Word2Vec.load(word_vec_path)\n",
    "        self.pre_h0 = h0.clone().detach()\n",
    "        self.pre_c0 = c0.clone().detach()\n",
    "        self.padding = np.zeros((1,300),dtype=np.float32)\n",
    "\n",
    "def jieba_string(chat):\n",
    "    logging.basicConfig(format='%(asctime)s : %(levelname)s : %(message)s', level=logging.INFO)\n",
    "    logging.disable(50)\n",
    "    output = []\n",
    "    # jieba custom setting.\n",
    "    jieba.set_dictionary('jieba_dict/dict.txt.big')\n",
    "    # load stopwords set\n",
    "    #將停用詞每row分別加進集合\n",
    "    stopword_set = set()\n",
    "    #設置停用詞讀取路徑\n",
    "    with open('jieba_dict/robot_stop_1.txt','r', encoding='utf-8') as stopwords:\n",
    "        for stopword in stopwords:\n",
    "            stopword_set.add(stopword.strip('\\n'))   #移除頭尾換行 strip('\\n')\n",
    "    chat = chat.strip('\\n')\n",
    "    words = jieba.cut(chat, cut_all=False,HMM=True)    #進行斷詞\n",
    "    for word in words:\n",
    "        #依每個詞判斷是否為停用詞(不是就寫入)\n",
    "        if word not in stopword_set:\n",
    "            output.append(word)\n",
    "    return output\n",
    "\n",
    "def chat(chat,config):\n",
    "    jieba_list = jieba_string(chat)\n",
    "    if len(jieba_list) > seq_len:\n",
    "        jieba_list = jieba_list[:seq_len]\n",
    "    if len(jieba_list) < seq_len:\n",
    "        for num in range(seq_len-len(jieba_list)):\n",
    "            jieba_list.append(0)\n",
    "    vec_array = np.zeros((1,300),dtype=np.float32)\n",
    "    for word in jieba_list:\n",
    "        if word == 0:\n",
    "            vec = config.padding\n",
    "            vec_array = np.concatenate((vec_array,vec),axis=0)\n",
    "        else:\n",
    "            try:\n",
    "                vec = np.array(config.word_vec_model.wv.get_vector(word),np.float32).reshape(1,300)\n",
    "                vec_array = np.concatenate((vec_array,vec),axis=0)\n",
    "            except KeyError:\n",
    "                vec = config.padding\n",
    "                vec_array = np.concatenate((vec_array,vec),axis=0)\n",
    "    X = vec_array[1:].reshape(1,-1,300)\n",
    "    X = torch.tensor(X)\n",
    "    return X\n",
    "\n",
    "def input_to_predict(chat_input,config):\n",
    "    x = chat(chat_input,config)\n",
    "    x = x.to(device=device,dtype=dtype)\n",
    "    output,(h0_,c0_)= model(x, config.pre_h0[:,:len(x),:].clone(), config.pre_c0[:,:len(x),:].clone())\n",
    "#     config.pre_h0 = h0_.detach()\n",
    "#     config.pre_c0 = c0_.detach()\n",
    "    predict = torch.argmax(output.detach())\n",
    "    print(chat_input)\n",
    "    if predict == 0:\n",
    "        print('Bad!!')\n",
    "    if predict == 1:\n",
    "        print('Good!!')\n",
    "    return output"
   ]
  },
  {
   "cell_type": "code",
   "execution_count": 9,
   "metadata": {},
   "outputs": [],
   "source": [
    "word_vec_path = r'D:\\Backup\\ml_data\\GitHub\\ML_Sentiment_analysis\\word2vec_model\\word2vec_model'\n",
    "config = predict_config(h0,c0,word_vec_path)"
   ]
  },
  {
   "cell_type": "code",
   "execution_count": 10,
   "metadata": {},
   "outputs": [
    {
     "name": "stdout",
     "output_type": "stream",
     "text": [
      "test:\n",
      "很親切\n",
      "Good!!\n",
      "棒棒達\n",
      "Good!!\n",
      "非常不錯\n",
      "Good!!\n",
      "爛爆!!!!!!!!!!!!!!!!!!!!\n",
      "Bad!!\n",
      "服務超差，真的4傻眼貓咪\n",
      "Bad!!\n",
      "東西不錯就是包裝那麼簡陋，連個盒子都沒有\n",
      "Bad!!\n",
      "不太好，晚上被卡拉OK的聲音干擾到很晚。樓下的飯店也搞出很多污染。\n",
      "Bad!!\n",
      "火龍果很小，而且還有一個爛了，發霉了！\n",
      "Bad!!\n",
      "啥蘋果？又不甜又不脆，太粉了，沒味道，最失望的購物。\n",
      "Bad!!\n",
      "啥完全是假貨，跟原來買的用的感覺一點都不一樣，假的不行了，洗髮沒有泡還粘在頭皮上\n",
      "Bad!!\n",
      "服務很糟糕...，但整體來說還不錯。\n",
      "Good!!\n",
      "房間還不錯，但服務很差。\n",
      "Bad!!\n",
      "無言薯條\n",
      "Good!!\n",
      "好棒\n",
      "Good!!\n",
      "阿不就好棒棒\n",
      "Bad!!\n",
      "氣死我了\n",
      "Bad!!\n",
      "484淘寶的服務都很差，無言薯條\n",
      "Bad!!\n",
      "好棒棒\n",
      "Good!!\n",
      "生77\n",
      "Bad!!\n",
      "良心事業\n",
      "Good!!\n",
      "房間還一般，但服務很差。\n",
      "Bad!!\n",
      "東西很便宜，店員很親切。\n",
      "Good!!\n",
      "爽爽爽爽爽爽\n",
      "Good!!\n",
      "出貨慢，態度差。\n",
      "Bad!!\n",
      "店長人很好 鳩咪\n",
      "Good!!\n",
      "東西好ㄘㄘㄘㄘ\n",
      "Good!!\n",
      "以後一定不來了\n",
      "Bad!!\n",
      "除了東西好吃之外，整體來說不佳。\n",
      "Bad!!\n",
      "真的是好棒棒\n",
      "Good!!\n",
      "大推\n",
      "Good!!\n",
      "不會再來買\n",
      "Good!!\n",
      "除了景觀不錯，整體來說不佳。\n",
      "Bad!!\n",
      "餐點很差，整體來說不錯。\n",
      "Good!!\n",
      "服務用心的好賣家~\n",
      "Good!!\n",
      "店家很母湯\n",
      "Bad!!\n",
      "很瞎\n",
      "Bad!!\n",
      "一定再來買\n",
      "Good!!\n",
      "正品\n",
      "Good!!\n",
      "決不會再買\n",
      "Good!!\n"
     ]
    },
    {
     "data": {
      "text/plain": [
       "tensor([[0.0130, 0.9870]], device='cuda:0', grad_fn=<SoftmaxBackward>)"
      ]
     },
     "execution_count": 10,
     "metadata": {},
     "output_type": "execute_result"
    }
   ],
   "source": [
    "print('test:')\n",
    "input_to_predict('很親切',config)\n",
    "input_to_predict('棒棒達',config)\n",
    "input_to_predict('非常不錯',config)\n",
    "input_to_predict('爛爆!!!!!!!!!!!!!!!!!!!!',config)\n",
    "input_to_predict('服務超差，真的4傻眼貓咪',config)\n",
    "input_to_predict('東西不錯就是包裝那麼簡陋，連個盒子都沒有',config)\n",
    "input_to_predict('不太好，晚上被卡拉OK的聲音干擾到很晚。樓下的飯店也搞出很多污染。',config)\n",
    "input_to_predict('火龍果很小，而且還有一個爛了，發霉了！',config)\n",
    "input_to_predict('啥蘋果？又不甜又不脆，太粉了，沒味道，最失望的購物。',config)\n",
    "input_to_predict('啥完全是假貨，跟原來買的用的感覺一點都不一樣，假的不行了，洗髮沒有泡還粘在頭皮上',config)\n",
    "input_to_predict('服務很糟糕...，但整體來說還不錯。',config)\n",
    "input_to_predict('房間還不錯，但服務很差。',config)\n",
    "input_to_predict('無言薯條',config)\n",
    "input_to_predict('好棒',config)\n",
    "input_to_predict('阿不就好棒棒',config)\n",
    "input_to_predict('氣死我了',config)\n",
    "input_to_predict('484淘寶的服務都很差，無言薯條',config)\n",
    "input_to_predict('好棒棒',config)\n",
    "input_to_predict('生77',config)\n",
    "input_to_predict('良心事業',config)\n",
    "input_to_predict('房間還一般，但服務很差。',config)\n",
    "input_to_predict('東西很便宜，店員很親切。',config)\n",
    "input_to_predict('爽爽爽爽爽爽',config)\n",
    "input_to_predict('出貨慢，態度差。',config)\n",
    "input_to_predict('店長人很好 鳩咪',config)\n",
    "input_to_predict('東西好ㄘㄘㄘㄘ',config)\n",
    "input_to_predict('以後一定不來了',config)\n",
    "input_to_predict('除了東西好吃之外，整體來說不佳。',config)\n",
    "input_to_predict('真的是好棒棒',config)\n",
    "input_to_predict('大推',config)\n",
    "input_to_predict('不會再來買',config)\n",
    "input_to_predict('除了景觀不錯，整體來說不佳。',config)\n",
    "input_to_predict('餐點很差，整體來說不錯。',config)\n",
    "input_to_predict('服務用心的好賣家~',config)\n",
    "input_to_predict('店家很母湯',config)\n",
    "input_to_predict('很瞎',config)\n",
    "input_to_predict('一定再來買',config)\n",
    "input_to_predict('正品',config)\n",
    "input_to_predict('決不會再買',config)"
   ]
  },
  {
   "cell_type": "code",
   "execution_count": null,
   "metadata": {},
   "outputs": [
    {
     "name": "stdout",
     "output_type": "stream",
     "text": [
      "停止請輸入: exit predict\n"
     ]
    }
   ],
   "source": [
    "while True:\n",
    "    print('停止請輸入: '+'exit predict')\n",
    "    input_chat = input('輸入評論：')\n",
    "    input_to_predict(input_chat,config)\n",
    "    if input_chat == 'exit predict':\n",
    "        break"
   ]
  },
  {
   "cell_type": "code",
   "execution_count": null,
   "metadata": {},
   "outputs": [],
   "source": [
    "import torch\n",
    "a = torch.tensor([])\n",
    "torch.topk"
   ]
  },
  {
   "cell_type": "code",
   "execution_count": null,
   "metadata": {},
   "outputs": [],
   "source": []
  },
  {
   "cell_type": "code",
   "execution_count": 3,
   "metadata": {},
   "outputs": [
    {
     "data": {
      "text/plain": [
       "[1, 2, 3, 4, 5, 6]"
      ]
     },
     "execution_count": 3,
     "metadata": {},
     "output_type": "execute_result"
    }
   ],
   "source": [
    "a = [1,2,3]\n",
    "a.extend([4,5,6])\n",
    "a"
   ]
  }
 ],
 "metadata": {
  "kernelspec": {
   "display_name": "Python 3",
   "language": "python",
   "name": "python3"
  },
  "language_info": {
   "codemirror_mode": {
    "name": "ipython",
    "version": 3
   },
   "file_extension": ".py",
   "mimetype": "text/x-python",
   "name": "python",
   "nbconvert_exporter": "python",
   "pygments_lexer": "ipython3",
   "version": "3.6.8"
  }
 },
 "nbformat": 4,
 "nbformat_minor": 2
}
