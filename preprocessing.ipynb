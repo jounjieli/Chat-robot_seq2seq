{
 "cells": [
  {
   "cell_type": "code",
   "execution_count": null,
   "metadata": {},
   "outputs": [],
   "source": [
    "from ML_utils import ML_utils\n",
    "from gensim.models import word2vec\n",
    "import shutil\n",
    "import os\n",
    "import numpy as np\n",
    "import pandas as pd\n",
    "import re\n",
    "import logging\n",
    "import sys"
   ]
  },
  {
   "cell_type": "markdown",
   "metadata": {},
   "source": [
    "# train wordvec"
   ]
  },
  {
   "cell_type": "code",
   "execution_count": null,
   "metadata": {},
   "outputs": [],
   "source": [
    "file_path = r\"D:\\Backup\\ml_data\\GitHub\\chat-robot_seq2seq\\word2vec_model\\merge_wiki.txt\"\n",
    "save_path = r\"D:\\Backup\\ml_data\\GitHub\\chat-robot_seq2seq\\word2vec_model\\merge_wiki_tw.txt\"\n",
    "ML_utils.Opencc_file(file_path,save_path,replace_old=True)"
   ]
  },
  {
   "cell_type": "code",
   "execution_count": null,
   "metadata": {},
   "outputs": [],
   "source": [
    "userdict_path = './jieba_dict/ptt_userdict.txt'\n",
    "jieba_dict = 'jieba_dict/jieba_merge.txt'\n",
    "dir_path = r\"./word2vec_model\"\n",
    "ML_utils.CallF_DirFile_save(dir_path, ML_utils.Jieba_file_segmentation, \n",
    "                            replace_old=False,regular=True,file_filter_=None,\n",
    "                            dict_path=jieba_dict,load_userdict_path=userdict_path,HMM=False)"
   ]
  },
  {
   "cell_type": "code",
   "execution_count": null,
   "metadata": {},
   "outputs": [],
   "source": [
    "dir_path = r\"D:\\Backup\\ml_data\\GitHub\\chat-robot_seq2seq\\word2vec_model\"\n",
    "save_path = r\"D:\\Backup\\ml_data\\GitHub\\chat-robot_seq2seq\\word2vec_model\\model_wordvec\"\n",
    "ML_utils.Word2vec_train(file_path=None,dir_path=dir_path,save_path=save_path,model_min_count=1)"
   ]
  },
  {
   "cell_type": "code",
   "execution_count": null,
   "metadata": {},
   "outputs": [],
   "source": [
    "#test\n",
    "save_path = r\"D:\\Backup\\ml_data\\GitHub\\chat-robot_seq2seq\\word2vec_model\\model_wordvec\"\n",
    "model = word2vec.Word2Vec.load(save_path)\n",
    "model.wv.most_similar(positive='台灣',topn=20)"
   ]
  },
  {
   "cell_type": "code",
   "execution_count": null,
   "metadata": {},
   "outputs": [],
   "source": []
  },
  {
   "cell_type": "markdown",
   "metadata": {},
   "source": [
    "# word2vec add token"
   ]
  },
  {
   "cell_type": "code",
   "execution_count": null,
   "metadata": {},
   "outputs": [],
   "source": [
    "#add token\n",
    "model_path = r\"D:\\Backup\\ml_data\\GitHub\\chat-robot_seq2seq\\word2vec_model\\model_wordvec\"\n",
    "save_path = r\"D:\\Backup\\ml_data\\GitHub\\chat-robot_seq2seq\\word2vec_model\\model_wordvec1\"\n",
    "train_file_path = r\"D:\\Backup\\ml_data\\GitHub\\chat-robot_seq2seq\\jieba_dict\\token\\token.txt\"\n",
    "ML_utils.add_word2vec_word(model_path,save_path,train_file_path=train_file_path)"
   ]
  },
  {
   "cell_type": "code",
   "execution_count": null,
   "metadata": {},
   "outputs": [],
   "source": [
    "#test\n",
    "save_path = r\"D:\\Backup\\ml_data\\GitHub\\chat-robot_seq2seq\\word2vec_model\\model_wordvec1\"\n",
    "model = word2vec.Word2Vec.load(save_path)\n",
    "model.wv.most_similar(positive='__EOS.Token__',topn=20)"
   ]
  },
  {
   "cell_type": "code",
   "execution_count": null,
   "metadata": {},
   "outputs": [],
   "source": []
  },
  {
   "cell_type": "markdown",
   "metadata": {},
   "source": [
    "# data add token"
   ]
  },
  {
   "cell_type": "code",
   "execution_count": null,
   "metadata": {},
   "outputs": [],
   "source": [
    "data_path = r\"D:\\Backup\\ml_data\\GitHub\\chat-robot_seq2seq\\data\\merge_ptt.txt\"\n",
    "save_path = r\"D:\\Backup\\ml_data\\GitHub\\chat-robot_seq2seq\\data\\merge_ptt_token.txt\"\n",
    "ML_utils.data_add_token_SOS_EOS(data_path,save_path)"
   ]
  },
  {
   "cell_type": "markdown",
   "metadata": {},
   "source": [
    "# data jieba segmentation"
   ]
  },
  {
   "cell_type": "code",
   "execution_count": null,
   "metadata": {},
   "outputs": [],
   "source": [
    "data_path = r\"D:\\Backup\\ml_data\\GitHub\\chat-robot_seq2seq\\data\\merge_ptt_token.txt\"\n",
    "save_path = r\"D:\\Backup\\ml_data\\GitHub\\chat-robot_seq2seq\\data\\merge_ptt_token_jieba.txt\"\n",
    "load_userdict_path = './jieba_dict/ptt_userdict.txt'\n",
    "dict_path = 'jieba_dict/jieba_merge.txt'\n",
    "ML_utils.Jieba_file_segmentation(data_path,save_path,\n",
    "                                 dict_path=dict_path,load_userdict_path=load_userdict_path,HMM=False)"
   ]
  },
  {
   "cell_type": "code",
   "execution_count": null,
   "metadata": {},
   "outputs": [],
   "source": []
  },
  {
   "cell_type": "markdown",
   "metadata": {},
   "source": [
    "# add loss_word to wordvec"
   ]
  },
  {
   "cell_type": "code",
   "execution_count": null,
   "metadata": {},
   "outputs": [],
   "source": [
    "def Null_to_space(list_in):\n",
    "    index = []\n",
    "    for num in range(len(list_in)):        \n",
    "        remove_num = 0\n",
    "        if list_in[num] == \"\" or list_in[num] == \"\\u3000\":\n",
    "            index.append(num)\n",
    "    for num in range(len(index)):\n",
    "        remove_index = index[num]-remove_num\n",
    "        list_in.pop(remove_index)\n",
    "        remove_num = remove_num+1\n",
    "    return list_in\n",
    "\n",
    "def get_pair_vec(model,pairs,num):\n",
    "    pair = pairs[num]\n",
    "    X = pair[0]\n",
    "    Y = pair[1]\n",
    "    loss_word = []\n",
    "    try:\n",
    "        for word in X:\n",
    "            model.wv.get_vector(word)\n",
    "        for word in Y:\n",
    "            model.wv.get_vector(word)\n",
    "    except:\n",
    "        loss_word.append(word)\n",
    "    return loss_word\n",
    "\n",
    "data_path = r\"D:\\Backup\\ml_data\\GitHub\\chat-robot_seq2seq\\data\\merge_ptt_token_jieba.txt\"\n",
    "pairs = []\n",
    "with open(data_path,\"r\",encoding=\"utf-8\") as f:\n",
    "    i = 0\n",
    "    for line in f:\n",
    "        pair = line.split(\"\\t\")\n",
    "        X = pair[0].strip(\" \").split(\" \")\n",
    "        X = Null_to_space(X)\n",
    "        Y = pair[1].strip(\"\\n\").strip(\" \").split(\" \")\n",
    "        Y = Null_to_space(Y)\n",
    "        pairs.append([X,Y])\n",
    "\n",
    "model_path = r\"D:\\Backup\\ml_data\\GitHub\\chat-robot_seq2seq\\word2vec_model\\model_wordvec1\"\n",
    "save_path = r\"D:\\Backup\\ml_data\\GitHub\\chat-robot_seq2seq\\word2vec_model\\model_wordvec1\"\n",
    "model = word2vec.Word2Vec.load(model_path)\n",
    "loss_word_set = set()\n",
    "for num in range(len(pairs)):\n",
    "    loss_word = get_pair_vec(model,pairs,num)\n",
    "    loss_word_set.update(loss_word)\n",
    "\n",
    "sentences = []   \n",
    "for word in list(loss_word_set):\n",
    "    sentences.append([word])\n",
    "print(sentences)    \n",
    "model.vocabulary.min_count = 1\n",
    "logging.basicConfig(format='%(asctime)s : %(levelname)s : %(message)s', level=logging.INFO)\n",
    "model.build_vocab(sentences, update=True)#训练该行\n",
    "model.train(sentences,total_examples= model.corpus_count,epochs= model.epochs)\n",
    "model.save(save_path)\n",
    "model.wv.most_similar(positive=sentences[0],topn=5)"
   ]
  },
  {
   "cell_type": "code",
   "execution_count": null,
   "metadata": {},
   "outputs": [],
   "source": []
  }
 ],
 "metadata": {
  "kernelspec": {
   "display_name": "Python 3",
   "language": "python",
   "name": "python3"
  },
  "language_info": {
   "codemirror_mode": {
    "name": "ipython",
    "version": 3
   },
   "file_extension": ".py",
   "mimetype": "text/x-python",
   "name": "python",
   "nbconvert_exporter": "python",
   "pygments_lexer": "ipython3",
   "version": "3.6.8"
  }
 },
 "nbformat": 4,
 "nbformat_minor": 2
}
