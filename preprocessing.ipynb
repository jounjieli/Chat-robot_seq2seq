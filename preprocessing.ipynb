{
 "cells": [
  {
   "cell_type": "markdown",
   "metadata": {},
   "source": [
    "# train wordvec"
   ]
  },
  {
   "cell_type": "code",
   "execution_count": 1,
   "metadata": {},
   "outputs": [],
   "source": [
    "from ML_utils import ML_utils\n",
    "import shutil\n",
    "import os\n",
    "import numpy as np\n",
    "from gensim.models import word2vec\n",
    "import pandas as pd\n",
    "import re"
   ]
  },
  {
   "cell_type": "code",
   "execution_count": null,
   "metadata": {},
   "outputs": [
    {
     "name": "stderr",
     "output_type": "stream",
     "text": [
      "Building prefix dict from D:\\Backup\\ml_data\\GitHub\\chat-robot_seq2seq\\jieba_dict\\jieba_merge.txt ...\n",
      "2019-05-11 00:34:49,698 : DEBUG : Building prefix dict from D:\\Backup\\ml_data\\GitHub\\chat-robot_seq2seq\\jieba_dict\\jieba_merge.txt ...\n",
      "Dumping model to file cache C:\\Users\\Jhin\\AppData\\Local\\Temp\\jieba.uce9186881637619ca72120272e27f9ca.cache\n",
      "2019-05-11 00:34:51,152 : DEBUG : Dumping model to file cache C:\\Users\\Jhin\\AppData\\Local\\Temp\\jieba.uce9186881637619ca72120272e27f9ca.cache\n",
      "Loading model cost 1.633 seconds.\n",
      "2019-05-11 00:34:51,333 : DEBUG : Loading model cost 1.633 seconds.\n",
      "Prefix dict has been built succesfully.\n",
      "2019-05-11 00:34:51,334 : DEBUG : Prefix dict has been built succesfully.\n",
      "2019-05-11 00:34:51,675 : INFO : 已完成前 10000 行的斷詞\n",
      "2019-05-11 00:34:52,016 : INFO : 已完成前 20000 行的斷詞\n",
      "2019-05-11 00:34:52,365 : INFO : 已完成前 30000 行的斷詞\n",
      "2019-05-11 00:34:52,720 : INFO : 已完成前 40000 行的斷詞\n",
      "2019-05-11 00:34:53,063 : INFO : 已完成前 50000 行的斷詞\n",
      "2019-05-11 00:34:53,409 : INFO : 已完成前 60000 行的斷詞\n",
      "2019-05-11 00:34:53,748 : INFO : 已完成前 70000 行的斷詞\n",
      "2019-05-11 00:34:54,106 : INFO : 已完成前 80000 行的斷詞\n",
      "2019-05-11 00:34:54,457 : INFO : 已完成前 90000 行的斷詞\n",
      "2019-05-11 00:34:54,822 : INFO : 已完成前 100000 行的斷詞\n",
      "2019-05-11 00:34:55,246 : INFO : 已完成前 110000 行的斷詞\n",
      "2019-05-11 00:34:55,672 : INFO : 已完成前 120000 行的斷詞\n",
      "2019-05-11 00:34:56,084 : INFO : 已完成前 130000 行的斷詞\n",
      "2019-05-11 00:34:56,518 : INFO : 已完成前 140000 行的斷詞\n",
      "2019-05-11 00:34:56,947 : INFO : 已完成前 150000 行的斷詞\n",
      "2019-05-11 00:34:57,376 : INFO : 已完成前 160000 行的斷詞\n",
      "2019-05-11 00:34:57,801 : INFO : 已完成前 170000 行的斷詞\n",
      "2019-05-11 00:34:58,221 : INFO : 已完成前 180000 行的斷詞\n",
      "2019-05-11 00:34:58,641 : INFO : 已完成前 190000 行的斷詞\n",
      "2019-05-11 00:34:59,077 : INFO : 已完成前 200000 行的斷詞\n",
      "Building prefix dict from D:\\Backup\\ml_data\\GitHub\\chat-robot_seq2seq\\jieba_dict\\jieba_merge.txt ...\n",
      "2019-05-11 00:34:59,363 : DEBUG : Building prefix dict from D:\\Backup\\ml_data\\GitHub\\chat-robot_seq2seq\\jieba_dict\\jieba_merge.txt ...\n",
      "Loading model from cache C:\\Users\\Jhin\\AppData\\Local\\Temp\\jieba.uce9186881637619ca72120272e27f9ca.cache\n",
      "2019-05-11 00:34:59,364 : DEBUG : Loading model from cache C:\\Users\\Jhin\\AppData\\Local\\Temp\\jieba.uce9186881637619ca72120272e27f9ca.cache\n",
      "Loading model cost 1.293 seconds.\n",
      "2019-05-11 00:35:00,657 : DEBUG : Loading model cost 1.293 seconds.\n",
      "Prefix dict has been built succesfully.\n",
      "2019-05-11 00:35:00,658 : DEBUG : Prefix dict has been built succesfully.\n",
      "2019-05-11 00:35:05,172 : INFO : 已完成前 10000 行的斷詞\n",
      "2019-05-11 00:35:09,292 : INFO : 已完成前 20000 行的斷詞\n",
      "2019-05-11 00:35:13,897 : INFO : 已完成前 30000 行的斷詞\n",
      "2019-05-11 00:35:17,646 : INFO : 已完成前 40000 行的斷詞\n",
      "2019-05-11 00:35:21,643 : INFO : 已完成前 50000 行的斷詞\n",
      "2019-05-11 00:35:25,240 : INFO : 已完成前 60000 行的斷詞\n",
      "2019-05-11 00:35:29,372 : INFO : 已完成前 70000 行的斷詞\n",
      "2019-05-11 00:35:32,835 : INFO : 已完成前 80000 行的斷詞\n",
      "2019-05-11 00:35:36,025 : INFO : 已完成前 90000 行的斷詞\n",
      "2019-05-11 00:35:39,551 : INFO : 已完成前 100000 行的斷詞\n",
      "2019-05-11 00:35:43,070 : INFO : 已完成前 110000 行的斷詞\n",
      "2019-05-11 00:35:46,333 : INFO : 已完成前 120000 行的斷詞\n",
      "2019-05-11 00:35:49,673 : INFO : 已完成前 130000 行的斷詞\n",
      "2019-05-11 00:35:53,010 : INFO : 已完成前 140000 行的斷詞\n",
      "2019-05-11 00:35:56,543 : INFO : 已完成前 150000 行的斷詞\n",
      "2019-05-11 00:35:59,705 : INFO : 已完成前 160000 行的斷詞\n",
      "2019-05-11 00:36:03,897 : INFO : 已完成前 170000 行的斷詞\n",
      "2019-05-11 00:36:08,023 : INFO : 已完成前 180000 行的斷詞\n",
      "2019-05-11 00:36:11,590 : INFO : 已完成前 190000 行的斷詞\n",
      "2019-05-11 00:36:15,274 : INFO : 已完成前 200000 行的斷詞\n",
      "2019-05-11 00:36:18,245 : INFO : 已完成前 210000 行的斷詞\n",
      "2019-05-11 00:36:21,781 : INFO : 已完成前 220000 行的斷詞\n",
      "2019-05-11 00:36:25,327 : INFO : 已完成前 230000 行的斷詞\n",
      "2019-05-11 00:36:28,493 : INFO : 已完成前 240000 行的斷詞\n"
     ]
    }
   ],
   "source": [
    "userdict_path = './jieba_dict/ptt_userdict.txt'\n",
    "jieba_dict = 'jieba_dict/jieba_merge.txt'\n",
    "dir_path = r\"./word2vec_model\"\n",
    "ML_utils.CallF_DirFile_save(dir_path, ML_utils.Jieba_file_segmentation, \n",
    "                            replace_old=False,regular=True,file_filter_=None,\n",
    "                            dict_path=jieba_dict,load_userdict_path=userdict_path,HMM=False)"
   ]
  },
  {
   "cell_type": "code",
   "execution_count": null,
   "metadata": {},
   "outputs": [],
   "source": [
    "file_path = r\"D:\\Backup\\ml_data\\GitHub\\chat-robot_seq2seq\\word2vec_model\\new_merge_ptt.txt\"\n",
    "save_path = r\"D:\\Backup\\ml_data\\GitHub\\chat-robot_seq2seq\\word2vec_model\\model_wordvec\"\n",
    "ML_utils.Word2vec_train(file_path=file_path,save_path=save_path,model_min_count=2)"
   ]
  },
  {
   "cell_type": "code",
   "execution_count": null,
   "metadata": {},
   "outputs": [],
   "source": [
    "save_path = r\"D:\\Backup\\ml_data\\GitHub\\chat-robot_seq2seq\\word2vec_model\\model_wordvec\"\n",
    "model = word2vec.Word2Vec.load(save_path)"
   ]
  },
  {
   "cell_type": "code",
   "execution_count": null,
   "metadata": {},
   "outputs": [],
   "source": [
    "model.wv.most_similar(positive='難波萬',topn=20)"
   ]
  },
  {
   "cell_type": "code",
   "execution_count": null,
   "metadata": {},
   "outputs": [],
   "source": [
    "model.wv.index2word"
   ]
  },
  {
   "cell_type": "code",
   "execution_count": null,
   "metadata": {},
   "outputs": [],
   "source": []
  },
  {
   "cell_type": "code",
   "execution_count": null,
   "metadata": {},
   "outputs": [],
   "source": []
  }
 ],
 "metadata": {
  "kernelspec": {
   "display_name": "Python 3",
   "language": "python",
   "name": "python3"
  },
  "language_info": {
   "codemirror_mode": {
    "name": "ipython",
    "version": 3
   },
   "file_extension": ".py",
   "mimetype": "text/x-python",
   "name": "python",
   "nbconvert_exporter": "python",
   "pygments_lexer": "ipython3",
   "version": "3.6.8"
  }
 },
 "nbformat": 4,
 "nbformat_minor": 2
}
