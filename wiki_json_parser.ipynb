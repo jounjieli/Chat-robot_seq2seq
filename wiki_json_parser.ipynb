{
 "cells": [
  {
   "cell_type": "code",
   "execution_count": null,
   "metadata": {},
   "outputs": [],
   "source": [
    "from ML_utils import ML_utils\n",
    "import shutil\n",
    "import os\n",
    "import numpy as np\n",
    "from gensim.models import word2vec\n",
    "import pandas as pd\n",
    "import json\n",
    "import re\n",
    "import tqdm\n",
    "if __name__ == '__main__':\n",
    "    dir_dir_path = r\"D:\\Backup\\ml_data\\Data_set\\NLP\\wiki_zh_2019\\wiki_zh\"\n",
    "    dir_list = ML_utils.Get_dir_file_list(dir_dir_path,distinguish=True)[1]\n",
    "    json_list = []\n",
    "    for dir_name in tqdm.tqdm(dir_list):\n",
    "        dir_path = os.path.join(dir_dir_path,dir_name)\n",
    "        file_list = ML_utils.Get_dir_file_list(dir_path,distinguish=True)[0]\n",
    "        for file_name in file_list:    \n",
    "            file_path = os.path.join(dir_path,file_name)\n",
    "            with open(file_path,'r',encoding=\"utf-8\") as f:\n",
    "                for data in f:\n",
    "                    json_data = json.loads(data)\n",
    "                    json_list.append(\n",
    "                        re.sub(\"\\n+\",\"\\n\",json_data[\"text\"])\n",
    "                    )\n",
    "    save_path = r\"D:\\Backup\\ml_data\\Data_set\\NLP\\wiki_zh_2019\\wiki_zh\"\n",
    "    file_name = \"merge_wiki.txt\"\n",
    "    save_path = os.path.join(save_path,file_name)\n",
    "    with open(save_path,\"w\",encoding=\"utf-8\") as f:\n",
    "        for content in tqdm.tqdm(json_list):\n",
    "            f.writelines(content)"
   ]
  }
 ],
 "metadata": {
  "kernelspec": {
   "display_name": "Python 3",
   "language": "python",
   "name": "python3"
  },
  "language_info": {
   "codemirror_mode": {
    "name": "ipython",
    "version": 3
   },
   "file_extension": ".py",
   "mimetype": "text/x-python",
   "name": "python",
   "nbconvert_exporter": "python",
   "pygments_lexer": "ipython3",
   "version": "3.6.8"
  }
 },
 "nbformat": 4,
 "nbformat_minor": 2
}
