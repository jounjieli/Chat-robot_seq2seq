{
 "cells": [
  {
   "cell_type": "markdown",
   "metadata": {},
   "source": [
    "# import"
   ]
  },
  {
   "cell_type": "code",
   "execution_count": 1,
   "metadata": {},
   "outputs": [],
   "source": [
    "from __future__ import unicode_literals, print_function, division\n",
    "from io import open\n",
    "import unicodedata\n",
    "import string\n",
    "import re\n",
    "import random\n",
    "import torch\n",
    "import torch.nn as nn\n",
    "from torch import optim\n",
    "import torch.nn.functional as F\n",
    "from gensim.models import word2vec\n",
    "import numpy as np\n",
    "\n",
    "device = torch.device(\"cuda\" if torch.cuda.is_available() else \"cpu\")"
   ]
  },
  {
   "cell_type": "markdown",
   "metadata": {},
   "source": [
    "# set dataset"
   ]
  },
  {
   "cell_type": "code",
   "execution_count": 20,
   "metadata": {},
   "outputs": [],
   "source": [
    "def Null_to_space(list_in):\n",
    "    index = []\n",
    "    for num in range(len(list_in)):        \n",
    "        remove_num = 0\n",
    "        if list_in[num] == \"\" or list_in[num] == \"\\u3000\":\n",
    "            index.append(num)\n",
    "    for num in range(len(index)):\n",
    "        remove_index = index[num]-remove_num\n",
    "        list_in.pop(remove_index)\n",
    "        remove_num = remove_num+1\n",
    "    return list_in\n",
    "\n",
    "def get_pair_vec(model,pairs):\n",
    "    num = np.random.randint(0,len(pairs),1,np.int64)[0]\n",
    "    pair = pairs[num]\n",
    "    X = pair[0]\n",
    "    Y = pair[1]\n",
    "    x = []\n",
    "    y = []\n",
    "    for word in X:\n",
    "        x.append(model.wv.get_vector(word))\n",
    "    for word in Y:\n",
    "        y.append(model.wv.get_vector(word))\n",
    "    return x,y\n",
    "\n",
    "def wordvec2str(vec):\n",
    "    return model.wv.similar_by_vector(vec,1)"
   ]
  },
  {
   "cell_type": "code",
   "execution_count": 3,
   "metadata": {},
   "outputs": [],
   "source": [
    "data_path = r\"D:\\Backup\\ml_data\\GitHub\\chat-robot_seq2seq\\data\\merge_ptt_token_jieba.txt\"\n",
    "pairs = []\n",
    "with open(data_path,\"r\",encoding=\"utf-8\") as f:\n",
    "    i = 0\n",
    "    for line in f:\n",
    "        pair = line.split(\"\\t\")\n",
    "        X = pair[0].strip(\" \").split(\" \")\n",
    "        X = Null_to_space(X)\n",
    "        Y = pair[1].strip(\"\\n\").strip(\" \").split(\" \")\n",
    "        Y = Null_to_space(Y)\n",
    "        pairs.append([X,Y])\n",
    "\n",
    "model_path = r\"D:\\Backup\\ml_data\\GitHub\\chat-robot_seq2seq\\word2vec_model\\model_wordvec1\"\n",
    "model = word2vec.Word2Vec.load(model_path)"
   ]
  },
  {
   "cell_type": "code",
   "execution_count": null,
   "metadata": {},
   "outputs": [],
   "source": []
  },
  {
   "cell_type": "code",
   "execution_count": null,
   "metadata": {},
   "outputs": [],
   "source": []
  },
  {
   "cell_type": "code",
   "execution_count": null,
   "metadata": {},
   "outputs": [],
   "source": []
  }
 ],
 "metadata": {
  "kernelspec": {
   "display_name": "Python 3",
   "language": "python",
   "name": "python3"
  },
  "language_info": {
   "codemirror_mode": {
    "name": "ipython",
    "version": 3
   },
   "file_extension": ".py",
   "mimetype": "text/x-python",
   "name": "python",
   "nbconvert_exporter": "python",
   "pygments_lexer": "ipython3",
   "version": "3.6.8"
  }
 },
 "nbformat": 4,
 "nbformat_minor": 2
}
